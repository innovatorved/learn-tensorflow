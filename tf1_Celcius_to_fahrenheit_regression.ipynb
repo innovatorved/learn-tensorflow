{
  "nbformat": 4,
  "nbformat_minor": 0,
  "metadata": {
    "colab": {
      "name": "tf1_Celcius_to_fahrenheit-regression.ipynb",
      "provenance": [],
      "collapsed_sections": []
    },
    "kernelspec": {
      "name": "python3",
      "display_name": "Python 3"
    },
    "language_info": {
      "name": "python"
    }
  },
  "cells": [
    {
      "cell_type": "markdown",
      "metadata": {
        "id": "nADtu9Vuhbzd"
      },
      "source": [
        "# **Celcius To Fahrenheit ML Model**\n",
        "Source : <a href=\"https://colab.research.google.com/github/tensorflow/examples/blob/master/courses/udacity_intro_to_tensorflow_for_deep_learning/l02c01_celsius_to_fahrenheit.ipynb#scrollTo=F8YVA_634OFk&uniqifier=1\">link</a>"
      ]
    },
    {
      "cell_type": "code",
      "metadata": {
        "id": "L3Z2ALRQX8iU"
      },
      "source": [
        "import tensorflow as tf\n",
        "# tf.logging.set_verbosity(tf.logging.ERROR)\n",
        "\n",
        "import numpy as np"
      ],
      "execution_count": null,
      "outputs": []
    },
    {
      "cell_type": "code",
      "metadata": {
        "id": "FsO6k3r70eqn"
      },
      "source": [
        "%load_ext tensorboard\n",
        "# add extension for tensorboard"
      ],
      "execution_count": null,
      "outputs": []
    },
    {
      "cell_type": "markdown",
      "metadata": {
        "id": "dtqAHGD6iyLr"
      },
      "source": [
        "Setup Training Data"
      ]
    },
    {
      "cell_type": "code",
      "metadata": {
        "id": "04T0QInziFVQ"
      },
      "source": [
        "celsius_q    = np.array([-40, -10,  0,  8, 15, 22,  38],  dtype=float)\n",
        "fahrenheit_a = np.array([-40,  14, 32, 46, 59, 72, 100],  dtype=float)\n"
      ],
      "execution_count": null,
      "outputs": []
    },
    {
      "cell_type": "code",
      "metadata": {
        "id": "76UJZg9XieNC",
        "colab": {
          "base_uri": "https://localhost:8080/"
        },
        "outputId": "2d3c2f89-6faf-4e12-a765-9d319033e023"
      },
      "source": [
        "for x , y in enumerate(celsius_q):\n",
        "  print(f\"{y} Degree Celsius is = {fahrenheit_a[x]} Degree fahrenheit\")"
      ],
      "execution_count": null,
      "outputs": [
        {
          "output_type": "stream",
          "text": [
            "-40.0 Degree Celsius is = -40.0 Degree fahrenheit\n",
            "-10.0 Degree Celsius is = 14.0 Degree fahrenheit\n",
            "0.0 Degree Celsius is = 32.0 Degree fahrenheit\n",
            "8.0 Degree Celsius is = 46.0 Degree fahrenheit\n",
            "15.0 Degree Celsius is = 59.0 Degree fahrenheit\n",
            "22.0 Degree Celsius is = 72.0 Degree fahrenheit\n",
            "38.0 Degree Celsius is = 100.0 Degree fahrenheit\n"
          ],
          "name": "stdout"
        }
      ]
    },
    {
      "cell_type": "code",
      "metadata": {
        "id": "l5QE8fQtjSvu"
      },
      "source": [
        "l0 = tf.keras.layers.Dense(units=1, input_shape=[1])"
      ],
      "execution_count": null,
      "outputs": []
    },
    {
      "cell_type": "code",
      "metadata": {
        "id": "W5dVVKgHjp-s"
      },
      "source": [
        "# assemble layer into a model\n",
        "model = tf.keras.Sequential([l0])"
      ],
      "execution_count": null,
      "outputs": []
    },
    {
      "cell_type": "code",
      "metadata": {
        "id": "S3uy3zVsqFLz"
      },
      "source": [
        "model.compile(loss='mean_squared_error',\n",
        "              optimizer=tf.keras.optimizers.Adam(0.1))\n",
        "# compile the model before fitting values"
      ],
      "execution_count": null,
      "outputs": []
    },
    {
      "cell_type": "markdown",
      "metadata": {
        "id": "1zl6qT4wqReW"
      },
      "source": [
        "Train the model"
      ]
    },
    {
      "cell_type": "code",
      "metadata": {
        "id": "HHmOCmh7ycfR"
      },
      "source": [
        "# code added unusable\n",
        "import datetime\n",
        "log_dir = \"logs/fit/\" + datetime.datetime.now().strftime(\"%Y%m%d-%H%M%S\")\n",
        "tensorboard_callback = tf.keras.callbacks.TensorBoard(log_dir=log_dir, histogram_freq=1)\n"
      ],
      "execution_count": null,
      "outputs": []
    },
    {
      "cell_type": "code",
      "metadata": {
        "colab": {
          "base_uri": "https://localhost:8080/"
        },
        "id": "zrLpyzgGqMqZ",
        "outputId": "999c29d5-e315-4d21-9602-6a59ed1fe195"
      },
      "source": [
        "modelfit_history = model.fit(celsius_q, fahrenheit_a, epochs=500, verbose=False , callbacks=[tensorboard_callback])\n",
        "print(\"Finished training the model\")"
      ],
      "execution_count": null,
      "outputs": [
        {
          "output_type": "stream",
          "text": [
            "Finished training the model\n"
          ],
          "name": "stdout"
        }
      ]
    },
    {
      "cell_type": "code",
      "metadata": {
        "id": "CLsEzetLx6uC"
      },
      "source": [
        "%tensorboard --logdir logs/fit"
      ],
      "execution_count": null,
      "outputs": []
    },
    {
      "cell_type": "code",
      "metadata": {
        "colab": {
          "base_uri": "https://localhost:8080/"
        },
        "id": "e3BccGYIyZTw",
        "outputId": "ecb75cf9-8b3a-4823-9979-af7c46b072b7"
      },
      "source": [
        "print(modelfit_history.__doc__)"
      ],
      "execution_count": null,
      "outputs": [
        {
          "output_type": "stream",
          "text": [
            "Callback that records events into a `History` object.\n",
            "\n",
            "  This callback is automatically applied to\n",
            "  every Keras model. The `History` object\n",
            "  gets returned by the `fit` method of models.\n",
            "  \n"
          ],
          "name": "stdout"
        }
      ]
    },
    {
      "cell_type": "code",
      "metadata": {
        "colab": {
          "base_uri": "https://localhost:8080/",
          "height": 297
        },
        "id": "MO6flt91qYEE",
        "outputId": "651a7ca8-d62b-4e59-dcd3-51419df366ba"
      },
      "source": [
        "import matplotlib.pyplot as plt\n",
        "\n",
        "plt.xlabel('Epoch Number')\n",
        "plt.ylabel(\"Loss Magnitude\")\n",
        "\n",
        "plt.plot(modelfit_history.history['loss'])"
      ],
      "execution_count": null,
      "outputs": [
        {
          "output_type": "execute_result",
          "data": {
            "text/plain": [
              "[<matplotlib.lines.Line2D at 0x7f79a76158d0>]"
            ]
          },
          "metadata": {
            "tags": []
          },
          "execution_count": 13
        },
        {
          "output_type": "display_data",
          "data": {
            "image/png": "[encoded data removed]",
            "text/plain": [
              "<Figure size 432x288 with 1 Axes>"
            ]
          },
          "metadata": {
            "tags": [],
            "needs_background": "light"
          }
        }
      ]
    },
    {
      "cell_type": "markdown",
      "metadata": {
        "id": "Y0rtPrxvqyfM"
      },
      "source": [
        "Use the model to predict values"
      ]
    },
    {
      "cell_type": "code",
      "metadata": {
        "colab": {
          "base_uri": "https://localhost:8080/"
        },
        "id": "uyKR6jsOx4Vr",
        "outputId": "4fd337db-d4fc-4d53-eb51-ec1728214866"
      },
      "source": [
        "model.predict([10])[0][0]"
      ],
      "execution_count": null,
      "outputs": [
        {
          "output_type": "execute_result",
          "data": {
            "text/plain": [
              "46.61371"
            ]
          },
          "metadata": {
            "tags": []
          },
          "execution_count": 14
        }
      ]
    },
    {
      "cell_type": "code",
      "metadata": {
        "colab": {
          "base_uri": "https://localhost:8080/"
        },
        "id": "JvGy1x8kuVdm",
        "outputId": "4a04be3f-dd27-43c3-cd3e-e6df8927885c"
      },
      "source": [
        "l0.get_weights()"
      ],
      "execution_count": null,
      "outputs": [
        {
          "output_type": "execute_result",
          "data": {
            "text/plain": [
              "[array([[1.8295507]], dtype=float32), array([28.3182], dtype=float32)]"
            ]
          },
          "metadata": {
            "tags": []
          },
          "execution_count": 16
        }
      ]
    }
  ]
}